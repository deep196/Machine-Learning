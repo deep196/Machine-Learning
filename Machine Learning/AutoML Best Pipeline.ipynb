{
 "cells": [
  {
   "cell_type": "code",
   "execution_count": 6,
   "id": "e8cec3c5",
   "metadata": {},
   "outputs": [],
   "source": [
    "import numpy as np\n",
    "import pandas as pd\n",
    "from sklearn.ensemble import GradientBoostingClassifier\n",
    "from sklearn.model_selection import train_test_split\n",
    "from sklearn.pipeline import make_pipeline, make_union\n",
    "from tpot.builtins import StackingEstimator\n",
    "from tpot.export_utils import set_param_recursive\n",
    "import warnings\n",
    "warnings.filterwarnings(\"ignore\")\n",
    "\n",
    "# NOTE: Make sure that the outcome column is labeled 'target' in the data file\n",
    "tpot_data = pd.read_csv('insurance2.csv', dtype=np.float64)\n",
    "features = tpot_data.drop('target', axis=1)\n",
    "training_features, testing_features, training_target, testing_target = \\\n",
    "            train_test_split(features, tpot_data['target'], random_state=1)\n",
    "\n",
    "# Average CV score on the training set was: 0.9818295596768689\n",
    "exported_pipeline = make_pipeline(\n",
    "    StackingEstimator(estimator=GradientBoostingClassifier(learning_rate=0.5, max_depth=9, max_features=0.9000000000000001, min_samples_leaf=2, min_samples_split=7, n_estimators=100, subsample=0.9000000000000001)),\n",
    "    GradientBoostingClassifier(learning_rate=0.1, max_depth=9, max_features=0.7500000000000001, min_samples_leaf=4, min_samples_split=11, n_estimators=100, subsample=0.2)\n",
    ")\n",
    "# Fix random state for all the steps in exported pipeline\n",
    "set_param_recursive(exported_pipeline.steps, 'random_state', 1)\n",
    "\n",
    "exported_pipeline.fit(training_features, training_target)\n",
    "predicted_target = exported_pipeline.predict(testing_features)\n"
   ]
  },
  {
   "cell_type": "code",
   "execution_count": 3,
   "id": "47d4c2a4",
   "metadata": {},
   "outputs": [
    {
     "name": "stdout",
     "output_type": "stream",
     "text": [
      "Collecting tpot\n",
      "  Downloading TPOT-0.11.7-py3-none-any.whl (87 kB)\n",
      "Requirement already satisfied: joblib>=0.13.2 in c:\\users\\deepak avhad\\anaconda3\\lib\\site-packages (from tpot) (1.0.1)\n",
      "Requirement already satisfied: scipy>=1.3.1 in c:\\users\\deepak avhad\\anaconda3\\lib\\site-packages (from tpot) (1.6.2)\n",
      "Requirement already satisfied: xgboost>=1.1.0 in c:\\users\\deepak avhad\\anaconda3\\lib\\site-packages (from tpot) (1.5.1)\n",
      "Requirement already satisfied: pandas>=0.24.2 in c:\\users\\deepak avhad\\anaconda3\\lib\\site-packages (from tpot) (1.2.4)\n",
      "Requirement already satisfied: numpy>=1.16.3 in c:\\users\\deepak avhad\\anaconda3\\lib\\site-packages (from tpot) (1.20.1)\n",
      "Requirement already satisfied: tqdm>=4.36.1 in c:\\users\\deepak avhad\\anaconda3\\lib\\site-packages (from tpot) (4.59.0)\n",
      "Collecting deap>=1.2\n",
      "  Downloading deap-1.3.1-cp38-cp38-win_amd64.whl (108 kB)\n",
      "Requirement already satisfied: scikit-learn>=0.22.0 in c:\\users\\deepak avhad\\anaconda3\\lib\\site-packages (from tpot) (0.24.1)\n",
      "Collecting stopit>=1.1.1\n",
      "  Downloading stopit-1.1.2.tar.gz (18 kB)\n",
      "Collecting update-checker>=0.16\n",
      "  Downloading update_checker-0.18.0-py3-none-any.whl (7.0 kB)\n",
      "Requirement already satisfied: pytz>=2017.3 in c:\\users\\deepak avhad\\anaconda3\\lib\\site-packages (from pandas>=0.24.2->tpot) (2021.1)\n",
      "Requirement already satisfied: python-dateutil>=2.7.3 in c:\\users\\deepak avhad\\anaconda3\\lib\\site-packages (from pandas>=0.24.2->tpot) (2.8.1)\n",
      "Requirement already satisfied: six>=1.5 in c:\\users\\deepak avhad\\anaconda3\\lib\\site-packages (from python-dateutil>=2.7.3->pandas>=0.24.2->tpot) (1.15.0)\n",
      "Requirement already satisfied: threadpoolctl>=2.0.0 in c:\\users\\deepak avhad\\anaconda3\\lib\\site-packages (from scikit-learn>=0.22.0->tpot) (2.1.0)\n",
      "Requirement already satisfied: requests>=2.3.0 in c:\\users\\deepak avhad\\anaconda3\\lib\\site-packages (from update-checker>=0.16->tpot) (2.25.1)\n",
      "Requirement already satisfied: urllib3<1.27,>=1.21.1 in c:\\users\\deepak avhad\\anaconda3\\lib\\site-packages (from requests>=2.3.0->update-checker>=0.16->tpot) (1.26.4)\n",
      "Requirement already satisfied: chardet<5,>=3.0.2 in c:\\users\\deepak avhad\\anaconda3\\lib\\site-packages (from requests>=2.3.0->update-checker>=0.16->tpot) (4.0.0)\n",
      "Requirement already satisfied: certifi>=2017.4.17 in c:\\users\\deepak avhad\\anaconda3\\lib\\site-packages (from requests>=2.3.0->update-checker>=0.16->tpot) (2020.12.5)\n",
      "Requirement already satisfied: idna<3,>=2.5 in c:\\users\\deepak avhad\\anaconda3\\lib\\site-packages (from requests>=2.3.0->update-checker>=0.16->tpot) (2.10)\n",
      "Building wheels for collected packages: stopit\n",
      "  Building wheel for stopit (setup.py): started\n",
      "  Building wheel for stopit (setup.py): finished with status 'done'\n",
      "  Created wheel for stopit: filename=stopit-1.1.2-py3-none-any.whl size=11955 sha256=88c237a2691fae8bded581bfc9a9ce39c883908002d3df00421bf9d1bddc9f25\n",
      "  Stored in directory: c:\\users\\deepak avhad\\appdata\\local\\pip\\cache\\wheels\\a8\\bb\\8f\\6b9328d23c2dcedbfeb8498b9f650d55d463089e3b8fc0bfb2\n",
      "Successfully built stopit\n",
      "Installing collected packages: update-checker, stopit, deap, tpot\n",
      "Successfully installed deap-1.3.1 stopit-1.1.2 tpot-0.11.7 update-checker-0.18.0\n"
     ]
    }
   ],
   "source": [
    "! pip install tpot"
   ]
  },
  {
   "cell_type": "code",
   "execution_count": 7,
   "id": "564c1b29",
   "metadata": {},
   "outputs": [
    {
     "name": "stdout",
     "output_type": "stream",
     "text": [
      "              precision    recall  f1-score   support\n",
      "\n",
      "         0.0       0.99      0.97      0.98       132\n",
      "         1.0       0.98      1.00      0.99       203\n",
      "\n",
      "    accuracy                           0.99       335\n",
      "   macro avg       0.99      0.98      0.98       335\n",
      "weighted avg       0.99      0.99      0.99       335\n",
      "\n"
     ]
    }
   ],
   "source": [
    "from sklearn.metrics import classification_report\n",
    "print(classification_report(testing_target,predicted_target))"
   ]
  },
  {
   "cell_type": "code",
   "execution_count": null,
   "id": "1784bca6",
   "metadata": {},
   "outputs": [],
   "source": []
  }
 ],
 "metadata": {
  "kernelspec": {
   "display_name": "Python 3",
   "language": "python",
   "name": "python3"
  },
  "language_info": {
   "codemirror_mode": {
    "name": "ipython",
    "version": 3
   },
   "file_extension": ".py",
   "mimetype": "text/x-python",
   "name": "python",
   "nbconvert_exporter": "python",
   "pygments_lexer": "ipython3",
   "version": "3.8.8"
  }
 },
 "nbformat": 4,
 "nbformat_minor": 5
}
