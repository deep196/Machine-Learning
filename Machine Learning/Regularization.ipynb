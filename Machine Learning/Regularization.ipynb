{
 "cells": [
  {
   "cell_type": "code",
   "execution_count": 1,
   "id": "489aeff4",
   "metadata": {},
   "outputs": [],
   "source": [
    "import numpy as np\n",
    "import pandas as pd\n",
    "import matplotlib.pyplot as plt\n",
    "import seaborn as sns\n",
    "\n",
    "from sklearn.linear_model import LinearRegression\n",
    "from sklearn.model_selection import train_test_split\n",
    "\n",
    "import warnings\n",
    "warnings.filterwarnings(\"ignore\")"
   ]
  },
  {
   "cell_type": "code",
   "execution_count": 2,
   "id": "dbc74594",
   "metadata": {},
   "outputs": [],
   "source": [
    "df = pd.read_csv(\"cars.csv\")"
   ]
  },
  {
   "cell_type": "code",
   "execution_count": 3,
   "id": "5c317bdd",
   "metadata": {},
   "outputs": [
    {
     "data": {
      "text/html": [
       "<div>\n",
       "<style scoped>\n",
       "    .dataframe tbody tr th:only-of-type {\n",
       "        vertical-align: middle;\n",
       "    }\n",
       "\n",
       "    .dataframe tbody tr th {\n",
       "        vertical-align: top;\n",
       "    }\n",
       "\n",
       "    .dataframe thead th {\n",
       "        text-align: right;\n",
       "    }\n",
       "</style>\n",
       "<table border=\"1\" class=\"dataframe\">\n",
       "  <thead>\n",
       "    <tr style=\"text-align: right;\">\n",
       "      <th></th>\n",
       "      <th>symboling</th>\n",
       "      <th>normalized-losses</th>\n",
       "      <th>make</th>\n",
       "      <th>fuel-type</th>\n",
       "      <th>body-style</th>\n",
       "      <th>drive-wheels</th>\n",
       "      <th>engine-location</th>\n",
       "      <th>width</th>\n",
       "      <th>height</th>\n",
       "      <th>engine-type</th>\n",
       "      <th>engine-size</th>\n",
       "      <th>horsepower</th>\n",
       "      <th>city-mpg</th>\n",
       "      <th>highway-mpg</th>\n",
       "      <th>price</th>\n",
       "    </tr>\n",
       "  </thead>\n",
       "  <tbody>\n",
       "    <tr>\n",
       "      <th>0</th>\n",
       "      <td>3</td>\n",
       "      <td>?</td>\n",
       "      <td>alfa-romero</td>\n",
       "      <td>gas</td>\n",
       "      <td>convertible</td>\n",
       "      <td>rwd</td>\n",
       "      <td>front</td>\n",
       "      <td>64.1</td>\n",
       "      <td>48.8</td>\n",
       "      <td>dohc</td>\n",
       "      <td>130</td>\n",
       "      <td>111</td>\n",
       "      <td>21</td>\n",
       "      <td>27</td>\n",
       "      <td>13495</td>\n",
       "    </tr>\n",
       "    <tr>\n",
       "      <th>1</th>\n",
       "      <td>3</td>\n",
       "      <td>?</td>\n",
       "      <td>alfa-romero</td>\n",
       "      <td>gas</td>\n",
       "      <td>convertible</td>\n",
       "      <td>rwd</td>\n",
       "      <td>front</td>\n",
       "      <td>64.1</td>\n",
       "      <td>48.8</td>\n",
       "      <td>dohc</td>\n",
       "      <td>130</td>\n",
       "      <td>111</td>\n",
       "      <td>21</td>\n",
       "      <td>27</td>\n",
       "      <td>16500</td>\n",
       "    </tr>\n",
       "    <tr>\n",
       "      <th>2</th>\n",
       "      <td>1</td>\n",
       "      <td>?</td>\n",
       "      <td>alfa-romero</td>\n",
       "      <td>gas</td>\n",
       "      <td>hatchback</td>\n",
       "      <td>rwd</td>\n",
       "      <td>front</td>\n",
       "      <td>65.5</td>\n",
       "      <td>52.4</td>\n",
       "      <td>ohcv</td>\n",
       "      <td>152</td>\n",
       "      <td>154</td>\n",
       "      <td>19</td>\n",
       "      <td>26</td>\n",
       "      <td>16500</td>\n",
       "    </tr>\n",
       "    <tr>\n",
       "      <th>3</th>\n",
       "      <td>2</td>\n",
       "      <td>164</td>\n",
       "      <td>audi</td>\n",
       "      <td>gas</td>\n",
       "      <td>sedan</td>\n",
       "      <td>fwd</td>\n",
       "      <td>front</td>\n",
       "      <td>66.2</td>\n",
       "      <td>54.3</td>\n",
       "      <td>ohc</td>\n",
       "      <td>109</td>\n",
       "      <td>102</td>\n",
       "      <td>24</td>\n",
       "      <td>30</td>\n",
       "      <td>13950</td>\n",
       "    </tr>\n",
       "    <tr>\n",
       "      <th>4</th>\n",
       "      <td>2</td>\n",
       "      <td>164</td>\n",
       "      <td>audi</td>\n",
       "      <td>gas</td>\n",
       "      <td>sedan</td>\n",
       "      <td>4wd</td>\n",
       "      <td>front</td>\n",
       "      <td>66.4</td>\n",
       "      <td>54.3</td>\n",
       "      <td>ohc</td>\n",
       "      <td>136</td>\n",
       "      <td>115</td>\n",
       "      <td>18</td>\n",
       "      <td>22</td>\n",
       "      <td>17450</td>\n",
       "    </tr>\n",
       "  </tbody>\n",
       "</table>\n",
       "</div>"
      ],
      "text/plain": [
       "   symboling normalized-losses         make fuel-type   body-style  \\\n",
       "0          3                 ?  alfa-romero       gas  convertible   \n",
       "1          3                 ?  alfa-romero       gas  convertible   \n",
       "2          1                 ?  alfa-romero       gas    hatchback   \n",
       "3          2               164         audi       gas        sedan   \n",
       "4          2               164         audi       gas        sedan   \n",
       "\n",
       "  drive-wheels engine-location  width  height engine-type  engine-size  \\\n",
       "0          rwd           front   64.1    48.8        dohc          130   \n",
       "1          rwd           front   64.1    48.8        dohc          130   \n",
       "2          rwd           front   65.5    52.4        ohcv          152   \n",
       "3          fwd           front   66.2    54.3         ohc          109   \n",
       "4          4wd           front   66.4    54.3         ohc          136   \n",
       "\n",
       "  horsepower  city-mpg  highway-mpg  price  \n",
       "0        111        21           27  13495  \n",
       "1        111        21           27  16500  \n",
       "2        154        19           26  16500  \n",
       "3        102        24           30  13950  \n",
       "4        115        18           22  17450  "
      ]
     },
     "execution_count": 3,
     "metadata": {},
     "output_type": "execute_result"
    }
   ],
   "source": [
    "df.head()"
   ]
  },
  {
   "cell_type": "code",
   "execution_count": 4,
   "id": "196fc476",
   "metadata": {},
   "outputs": [],
   "source": [
    "# preprocessing\n",
    "\n",
    "df[\"horsepower\"].replace(\"?\", np.nan, inplace=True)\n",
    "df[\"normalized-losses\"].replace(\"?\", np.nan, inplace=True)\n",
    "\n",
    "# convert to float\n",
    "\n",
    "df[\"normalized-losses\"] = df[\"normalized-losses\"].astype(\"float64\")\n",
    "\n",
    "df[\"horsepower\"] = df[\"horsepower\"].astype(\"float64\")"
   ]
  },
  {
   "cell_type": "code",
   "execution_count": 5,
   "id": "d4549515",
   "metadata": {},
   "outputs": [
    {
     "name": "stdout",
     "output_type": "stream",
     "text": [
      "122.0\n",
      "104.25615763546799\n"
     ]
    }
   ],
   "source": [
    "print(df[\"normalized-losses\"].mean())\n",
    "print(df[\"horsepower\"].mean())"
   ]
  },
  {
   "cell_type": "code",
   "execution_count": 6,
   "id": "63f81453",
   "metadata": {},
   "outputs": [],
   "source": [
    "# fill null\n",
    "\n",
    "df[\"normalized-losses\"].fillna(122, inplace=True)\n",
    "df[\"horsepower\"].fillna(104, inplace=True)"
   ]
  },
  {
   "cell_type": "code",
   "execution_count": 7,
   "id": "07bb29d5",
   "metadata": {},
   "outputs": [],
   "source": [
    "# feature and target\n",
    "\n",
    "X = df.drop(\"price\",axis=1)\n",
    "y = df[\"price\"]\n",
    "\n",
    "# train test\n",
    "X_train, X_test, y_train, y_test = train_test_split(X,y,test_size=0.3,random_state=1)"
   ]
  },
  {
   "cell_type": "code",
   "execution_count": 8,
   "id": "a06dc7cc",
   "metadata": {},
   "outputs": [],
   "source": [
    "# label encoding on categorical columns\n",
    "from sklearn.preprocessing import LabelEncoder\n",
    "categorical_columns =[\"make\",\"fuel-type\",\"body-style\",\"drive-wheels\",\"engine-location\",\"engine-type\"]\n",
    "\n",
    "\n",
    "for col in categorical_columns:\n",
    "    le = LabelEncoder()\n",
    "    X_train[col] = le.fit_transform(X_train[col])\n",
    "    X_test[col] = le.transform(X_test[col])"
   ]
  },
  {
   "cell_type": "code",
   "execution_count": 9,
   "id": "d125ab10",
   "metadata": {},
   "outputs": [
    {
     "data": {
      "text/plain": [
       "LinearRegression()"
      ]
     },
     "execution_count": 9,
     "metadata": {},
     "output_type": "execute_result"
    }
   ],
   "source": [
    "# Linear Regression\n",
    "\n",
    "lr = LinearRegression()\n",
    "lr.fit(X_train,y_train)"
   ]
  },
  {
   "cell_type": "code",
   "execution_count": 10,
   "id": "d7d3f9f2",
   "metadata": {},
   "outputs": [
    {
     "data": {
      "text/plain": [
       "0.8504568715278972"
      ]
     },
     "execution_count": 10,
     "metadata": {},
     "output_type": "execute_result"
    }
   ],
   "source": [
    "# train score\n",
    "lr.score(X_train,y_train)"
   ]
  },
  {
   "cell_type": "code",
   "execution_count": 11,
   "id": "05d47957",
   "metadata": {},
   "outputs": [
    {
     "data": {
      "text/plain": [
       "0.7965544858354369"
      ]
     },
     "execution_count": 11,
     "metadata": {},
     "output_type": "execute_result"
    }
   ],
   "source": [
    "# test score\n",
    "lr.score(X_test,y_test)"
   ]
  },
  {
   "cell_type": "code",
   "execution_count": 12,
   "id": "c9ed2755",
   "metadata": {},
   "outputs": [
    {
     "data": {
      "text/plain": [
       "array([ 4.51306786e+01,  1.53226590e+00, -2.00105431e+02, -6.22733455e+02,\n",
       "       -1.70254151e+02,  1.86861852e+03,  1.64130546e+04,  7.89414119e+02,\n",
       "        3.62704004e+02,  2.83207856e+02,  9.83648625e+01, -1.08091293e+01,\n",
       "        3.08067510e+02, -4.17054418e+02])"
      ]
     },
     "execution_count": 12,
     "metadata": {},
     "output_type": "execute_result"
    }
   ],
   "source": [
    "# coefficients\n",
    "lr.coef_"
   ]
  },
  {
   "cell_type": "code",
   "execution_count": 13,
   "id": "c10fbac8",
   "metadata": {},
   "outputs": [],
   "source": [
    "# Regularization\n",
    "from sklearn.linear_model import Lasso\n",
    "from sklearn.linear_model import Ridge"
   ]
  },
  {
   "cell_type": "code",
   "execution_count": 14,
   "id": "fc9e4924",
   "metadata": {},
   "outputs": [
    {
     "name": "stdout",
     "output_type": "stream",
     "text": [
      "alpha:  1\n",
      "train score:  0.843601737444792\n",
      "test score:  0.8074548621129003\n",
      "-----------------------\n",
      "alpha:  2\n",
      "train score:  0.8356568441584951\n",
      "test score:  0.811034506445969\n",
      "-----------------------\n",
      "alpha:  3\n",
      "train score:  0.8295968895778684\n",
      "test score:  0.8126999425979509\n",
      "-----------------------\n",
      "alpha:  4\n",
      "train score:  0.825005387860624\n",
      "test score:  0.8136223491977842\n",
      "-----------------------\n"
     ]
    }
   ],
   "source": [
    "# Ridge \n",
    " \n",
    "for alpha in range(1,5):\n",
    "    l2 = Ridge(alpha)\n",
    "    l2.fit(X_train,y_train)\n",
    "    \n",
    "    train_score = l2.score(X_train,y_train)\n",
    "    test_score = l2.score(X_test,y_test)\n",
    "    \n",
    "    print(\"alpha: \",alpha)\n",
    "    print(\"train score: \",train_score)\n",
    "    print(\"test score: \",test_score)\n",
    "    print(\"-----------------------\")"
   ]
  },
  {
   "cell_type": "code",
   "execution_count": 15,
   "id": "3f4d2480",
   "metadata": {},
   "outputs": [
    {
     "name": "stdout",
     "output_type": "stream",
     "text": [
      "alpha:  100\n",
      "train score:  0.8372913548415435\n",
      "test score:  0.8090021821374433\n",
      "-----------------------\n",
      "alpha:  110\n",
      "train score:  0.8345926568500504\n",
      "test score:  0.8098695559256961\n",
      "-----------------------\n",
      "alpha:  120\n",
      "train score:  0.8316369953253453\n",
      "test score:  0.8106533577754124\n",
      "-----------------------\n",
      "alpha:  130\n",
      "train score:  0.8284242259406098\n",
      "test score:  0.8113536564089348\n",
      "-----------------------\n",
      "alpha:  140\n",
      "train score:  0.8249544618886407\n",
      "test score:  0.8119703935273413\n",
      "-----------------------\n",
      "alpha:  150\n",
      "train score:  0.8212275306537296\n",
      "test score:  0.8125036163224489\n",
      "-----------------------\n"
     ]
    }
   ],
   "source": [
    "# Lasso \n",
    " \n",
    "for alpha in range(100,151,10):\n",
    "    l1 = Lasso(alpha)\n",
    "    l1.fit(X_train,y_train)\n",
    "    \n",
    "    train_score = l1.score(X_train,y_train)\n",
    "    test_score = l1.score(X_test,y_test)\n",
    "    \n",
    "    print(\"alpha: \",alpha)\n",
    "    print(\"train score: \",train_score)\n",
    "    print(\"test score: \",test_score)\n",
    "    print(\"-----------------------\")"
   ]
  },
  {
   "cell_type": "code",
   "execution_count": 16,
   "id": "0a61f8a5",
   "metadata": {},
   "outputs": [
    {
     "data": {
      "text/plain": [
       "Ridge(alpha=2)"
      ]
     },
     "execution_count": 16,
     "metadata": {},
     "output_type": "execute_result"
    }
   ],
   "source": [
    "# Final model\n",
    "\n",
    "l2 = Ridge(2)\n",
    "l2.fit(X_train,y_train)"
   ]
  },
  {
   "cell_type": "code",
   "execution_count": 17,
   "id": "46827739",
   "metadata": {},
   "outputs": [
    {
     "data": {
      "text/plain": [
       "array([ 1.66481207e+02, -8.84441662e-01, -1.94640409e+02, -1.13899099e+03,\n",
       "       -4.80930429e+02,  1.88116260e+03,  7.76063665e+03,  5.06205088e+02,\n",
       "        5.02070049e+02,  4.65935098e+02,  1.00152739e+02,  1.04161416e+01,\n",
       "        2.44076856e+02, -3.27705725e+02])"
      ]
     },
     "execution_count": 17,
     "metadata": {},
     "output_type": "execute_result"
    }
   ],
   "source": [
    "l2.coef_"
   ]
  },
  {
   "cell_type": "code",
   "execution_count": 18,
   "id": "75c81f2d",
   "metadata": {},
   "outputs": [
    {
     "data": {
      "text/plain": [
       "Lasso(alpha=120)"
      ]
     },
     "execution_count": 18,
     "metadata": {},
     "output_type": "execute_result"
    }
   ],
   "source": [
    "# Final model\n",
    "\n",
    "l1 = Lasso(120)\n",
    "l1.fit(X_train,y_train)"
   ]
  },
  {
   "cell_type": "code",
   "execution_count": 20,
   "id": "22736b64",
   "metadata": {},
   "outputs": [
    {
     "data": {
      "text/plain": [
       "array([ 1.75867421e+01,  1.78544194e+00, -1.79795294e+02, -0.00000000e+00,\n",
       "       -3.07858721e+02,  1.44112573e+03,  7.91251805e+03,  5.26900910e+02,\n",
       "        4.28198637e+02,  2.93469750e+02,  1.09030232e+02,  3.55672490e+00,\n",
       "        1.54215859e+02, -2.45172409e+02])"
      ]
     },
     "execution_count": 20,
     "metadata": {},
     "output_type": "execute_result"
    }
   ],
   "source": [
    "l1.coef_"
   ]
  },
  {
   "cell_type": "code",
   "execution_count": 21,
   "id": "93f802d8",
   "metadata": {},
   "outputs": [],
   "source": [
    "# cross validation\n",
    "\n",
    "from sklearn.model_selection import cross_val_score"
   ]
  },
  {
   "cell_type": "code",
   "execution_count": 22,
   "id": "4c6678d2",
   "metadata": {},
   "outputs": [],
   "source": [
    "categorical_columns =[\"make\",\"fuel-type\",\"body-style\",\"drive-wheels\",\"engine-location\",\"engine-type\"]\n",
    "\n",
    "\n",
    "for col in categorical_columns:\n",
    "    le = LabelEncoder()\n",
    "    X[col] = le.fit_transform(X[col])"
   ]
  },
  {
   "cell_type": "code",
   "execution_count": 23,
   "id": "89fa205e",
   "metadata": {},
   "outputs": [
    {
     "name": "stdout",
     "output_type": "stream",
     "text": [
      "[0.73599708 0.83762008 0.40943319 0.47427828]\n",
      "mean 0.6143321548746503\n"
     ]
    }
   ],
   "source": [
    "# cross validation on lasso\n",
    "\n",
    "cv1 = cross_val_score(l1,X,y,cv=4)\n",
    "\n",
    "print(cv1)\n",
    "\n",
    "print(\"mean -\",np.mean(cv1))"
   ]
  },
  {
   "cell_type": "code",
   "execution_count": 24,
   "id": "2b67f702",
   "metadata": {},
   "outputs": [
    {
     "name": "stdout",
     "output_type": "stream",
     "text": [
      "[0.71178047 0.86472552 0.37642252 0.47023102]\n",
      "mean -  0.605789882648044\n"
     ]
    }
   ],
   "source": [
    "# cross validation on ridge\n",
    "\n",
    "cv2 = cross_val_score(l2,X,y,cv=4)\n",
    "\n",
    "print(cv2)\n",
    "\n",
    "print(\"mean - \",np.mean(cv2))"
   ]
  },
  {
   "cell_type": "code",
   "execution_count": null,
   "id": "a7240e23",
   "metadata": {},
   "outputs": [],
   "source": []
  }
 ],
 "metadata": {
  "kernelspec": {
   "display_name": "Python 3",
   "language": "python",
   "name": "python3"
  },
  "language_info": {
   "codemirror_mode": {
    "name": "ipython",
    "version": 3
   },
   "file_extension": ".py",
   "mimetype": "text/x-python",
   "name": "python",
   "nbconvert_exporter": "python",
   "pygments_lexer": "ipython3",
   "version": "3.8.8"
  }
 },
 "nbformat": 4,
 "nbformat_minor": 5
}
